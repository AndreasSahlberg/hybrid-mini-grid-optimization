{
 "cells": [
  {
   "cell_type": "markdown",
   "metadata": {},
   "source": [
    "This notebook provides an example to run the hybrid mini-grid optimization for a single settlement.\n",
    "Hourly PV and temperature data are retrieved from renewables.ninja, and the hourly loads are estimated based on annual demand and example load curve shapes for each Tier of the Multi-Tier Franework. Both can be replaced if better data is available."
   ]
  },
  {
   "cell_type": "markdown",
   "metadata": {},
   "source": [
    "# Import neccessary packages"
   ]
  },
  {
   "cell_type": "code",
   "execution_count": null,
   "metadata": {},
   "outputs": [],
   "source": [
    "from src.mgoptimization.hybrids import *\n",
    "from src.mgoptimization.pso import *\n",
    "import os"
   ]
  },
  {
   "cell_type": "markdown",
   "metadata": {},
   "source": [
    "# Location of settlement"
   ]
  },
  {
   "cell_type": "code",
   "execution_count": null,
   "metadata": {},
   "outputs": [],
   "source": [
    "long = -3\n",
    "lat = 24"
   ]
  },
  {
   "cell_type": "markdown",
   "metadata": {},
   "source": [
    "# Retrieve solar resource data for the location"
   ]
  },
  {
   "cell_type": "markdown",
   "metadata": {},
   "source": [
    "Select where to save the PV data"
   ]
  },
  {
   "cell_type": "code",
   "execution_count": null,
   "metadata": {},
   "outputs": [],
   "source": [
    "pv_data_folder = 'pv'"
   ]
  },
  {
   "cell_type": "markdown",
   "metadata": {},
   "source": [
    "Enter your renewables.ninja token"
   ]
  },
  {
   "cell_type": "code",
   "execution_count": null,
   "metadata": {},
   "outputs": [],
   "source": [
    "token = ''"
   ]
  },
  {
   "cell_type": "markdown",
   "metadata": {},
   "source": [
    "This cell retrieves the PV data from renewables.ninja using your token"
   ]
  },
  {
   "cell_type": "code",
   "execution_count": null,
   "metadata": {},
   "outputs": [],
   "source": [
    "get_pv_data(lat, long, token, pv_data_folder)"
   ]
  },
  {
   "cell_type": "code",
   "execution_count": null,
   "metadata": {},
   "outputs": [],
   "source": [
    "hourly_ghi, hourly_temp = read_environmental_data(os.path.join(pv_data_folder, 'pv_data_lat_{}_long_{}.csv'.format(lat, long)))"
   ]
  },
  {
   "cell_type": "markdown",
   "metadata": {},
   "source": [
    "# Calculate hourly load curve\n",
    "\n",
    "The below cells estimates the load (kWh) for each hour in the year based on the annual demand, and example load curve shapes for each Tier of the Multi-Tier Framework. If the hourly load curve is already known for the settlement, replace the load_curve variable with that load curve."
   ]
  },
  {
   "cell_type": "code",
   "execution_count": null,
   "metadata": {},
   "outputs": [],
   "source": [
    "demand = 365*361 # Total annual demand (kWh) in location\n",
    "tier = 2  # Average Tier of the Multi-Tier Framework in the location."
   ]
  },
  {
   "cell_type": "code",
   "execution_count": null,
   "metadata": {},
   "outputs": [],
   "source": [
    "load_curve = calc_load_curve(tier, demand)"
   ]
  },
  {
   "cell_type": "markdown",
   "metadata": {},
   "source": [
    "# Run the optimization to find the best combination of PV, diesel and batteries, as well as the corresponding LCOE"
   ]
  },
  {
   "cell_type": "markdown",
   "metadata": {},
   "source": [
    "Update the costs and other techno-economic variables below"
   ]
  },
  {
   "cell_type": "code",
   "execution_count": null,
   "metadata": {},
   "outputs": [],
   "source": [
    "result = optimizer(diesel_price=0.5, # USD/liter of diesel fuel\n",
    "                   hourly_ghi=hourly_ghi,\n",
    "                   hourly_temp=hourly_temp,\n",
    "                   load_curve=load_curve,\n",
    "                   start_year=2024,\n",
    "                   end_year=2034,\n",
    "                   discount_rate=0.08,\n",
    "                   diesel_cost=378,  # diesel generator capital cost, USD/kW rated power\n",
    "                   battery_cost=589,  # battery capital capital cost, USD/kWh of storage capacity\n",
    "                   full_life_cycles=2000, #full battery cycles before failure\n",
    "                   battery_inverter_cost=608,  # USD/kW\n",
    "                   pv_cost=1147,  # PV panel capital cost, USD/kW peak power\n",
    "                   pv_inverter=0, # PV inverter cost, USD/kW peak power, set to 0 if already included in pv_cost\n",
    "                   charge_controller=0, # PV charge controller cost, USD/kW peak power, set to 0 if already included in pv_cost\n",
    "                   diesel_limit=0.5, # Maximum share of generation over a year coming from diesel generator\n",
    "                   lpsp_max=0.005,  # maximum loss of load allowed over the year\n",
    "                   iterations=100,  # The max number of iterations used in the Particle Swarm Optimization (PSO)\n",
    "                   n_particles=50,  # The number of particles used in the Particle Swarm Optimization\n",
    "                   ftol=0.0001,  # PSO parameter\n",
    "                   ftol_iter=10,  # PSO parameter\n",
    "                   verbose=True)  #  PSO parameter\n",
    "\n",
    "print('Generation LCOE is found to be {} USD/kWh'.format(round(result['gen_lcoe'], 2)))\n",
    "print('Optimum PV capacity is found to be {} kW'.format(round(result['pv_capacity'], 1)))\n",
    "print('Optimum diesel capacity is found to be {} kW'.format(round(result['diesel_gen_capacity'], 1)))\n",
    "print('Optimum battery capacity is found to be {} kWh'.format(round(result['battery_capacity'], 1)))\n",
    "print('NPC of optimum configuration is {} USD'.format(round(result['npc'], 0)))\n",
    "print('Battery life of optimum configuration is {} years'.format(round(result['battery_life'], 0)))"
   ]
  },
  {
   "cell_type": "markdown",
   "metadata": {},
   "source": [
    "# Visualize the results for two example days"
   ]
  },
  {
   "cell_type": "code",
   "execution_count": null,
   "metadata": {},
   "outputs": [],
   "source": [
    "import matplotlib.pyplot as plt\n",
    "import numpy as np"
   ]
  },
  {
   "cell_type": "code",
   "execution_count": null,
   "metadata": {},
   "outputs": [],
   "source": [
    "load = np.array(load_curve[2400:2448])\n",
    "pv_gen = np.array(result['hourly_pv_gen'][2400:2448])\n",
    "diesel_gen = np.array(result['hourly_diesel_gen'][2400:2448])\n",
    "battery_soc = np.array(result['battery_hourly_soc'][2400:2448])\n",
    "battery_usage = result['battery_capacity'] * battery_soc\n",
    "\n",
    "plt.figure(figsize=(12, 5)) \n",
    "\n",
    "#plt.subplot(1, 2, 1)\n",
    "plt.plot(load, label='Load')\n",
    "plt.plot(pv_gen, label='PV gen')\n",
    "plt.plot(battery_usage, '--', label='Stored dischargeable battery energy')\n",
    "plt.plot(diesel_gen, 'o', label='Diesel gen')\n",
    "plt.legend(loc='upper left')\n",
    "\n",
    "#plt.subplot(1, 2, 2)\n",
    "#plt.plot(load, label='Load')\n",
    "#plt.plot(battery_usage, '--', label='Stored battery energy')\n",
    "#plt.legend(loc='upper left')\n"
   ]
  },
  {
   "cell_type": "code",
   "execution_count": null,
   "metadata": {},
   "outputs": [],
   "source": []
  }
 ],
 "metadata": {
  "kernelspec": {
   "display_name": "Python 3 (ipykernel)",
   "language": "python",
   "name": "python3"
  },
  "language_info": {
   "codemirror_mode": {
    "name": "ipython",
    "version": 3
   },
   "file_extension": ".py",
   "mimetype": "text/x-python",
   "name": "python",
   "nbconvert_exporter": "python",
   "pygments_lexer": "ipython3",
   "version": "3.12.1"
  }
 },
 "nbformat": 4,
 "nbformat_minor": 4
}
