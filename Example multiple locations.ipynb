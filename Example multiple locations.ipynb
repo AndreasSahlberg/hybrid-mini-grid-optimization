{
 "cells": [
  {
   "cell_type": "markdown",
   "id": "d8ba5f26-a629-47b0-9e58-b2283d5c070f",
   "metadata": {},
   "source": [
    "This notebook displays an example of how to run the mini-grid optimization for multiple settlements at once. It does so using an example settlement file from the Global Electrification Platform (electrifynow.energydata.info) for Sierra Leone."
   ]
  },
  {
   "cell_type": "markdown",
   "id": "d6f0efa3-2d7f-4398-a474-1ab2bdc061d4",
   "metadata": {},
   "source": [
    "# Import neccessary packages"
   ]
  },
  {
   "cell_type": "code",
   "execution_count": 1,
   "id": "fc5a367b-d4cb-4ff4-a60d-6af1d7d49702",
   "metadata": {},
   "outputs": [],
   "source": [
    "from src.mgoptimization.hybrids import *\n",
    "from src.mgoptimization.pso import *\n",
    "import os\n",
    "import numpy as np\n",
    "from tqdm.notebook import tqdm_notebook\n",
    "tqdm_notebook.pandas()"
   ]
  },
  {
   "cell_type": "markdown",
   "id": "616b76e4-79c9-4577-8568-48f073459307",
   "metadata": {},
   "source": [
    "# Import settlements\n",
    "\n",
    "Data is retrieved from the example_input folder. Next, 100 sample settlements with more than 1000 people are selected from the file."
   ]
  },
  {
   "cell_type": "code",
   "execution_count": 4,
   "id": "ba561480-71f4-47f7-8a14-819ed4e9734b",
   "metadata": {},
   "outputs": [],
   "source": [
    "df = pd.read_csv('input/sl-2-country-inputs.csv')\n",
    "df = df.loc[df['PopStartYear'] > 1000]\n",
    "df = df.sample(100)"
   ]
  },
  {
   "cell_type": "markdown",
   "id": "ec4a562a-c4fd-4682-aa03-54ec2f4f57da",
   "metadata": {},
   "source": [
    "# Retrieve solar resource data for the area"
   ]
  },
  {
   "cell_type": "markdown",
   "id": "c1eeeeb2-8064-4eee-9eec-8d711a705c27",
   "metadata": {},
   "source": [
    "Select where to save the PV data"
   ]
  },
  {
   "cell_type": "code",
   "execution_count": 5,
   "id": "21150a37-cef5-4b21-9f25-221c2f656815",
   "metadata": {},
   "outputs": [],
   "source": [
    "pv_data_folder = 'pv'"
   ]
  },
  {
   "cell_type": "markdown",
   "id": "c3803c86-0268-4d9f-915f-f9e49b37e8f8",
   "metadata": {},
   "source": [
    "Enter your renewables.ninja token"
   ]
  },
  {
   "cell_type": "code",
   "execution_count": 6,
   "id": "fd3c8f1a-c9ef-4721-81a3-8369c3e3afd3",
   "metadata": {},
   "outputs": [],
   "source": [
    "token = 'cdf20d12d762111de60af365755a3e53e6b0b719'"
   ]
  },
  {
   "cell_type": "markdown",
   "id": "c7b7b108-bba8-43f1-8723-6b814d5e7cec",
   "metadata": {},
   "source": [
    "This below cells retrieves the PV data from renewables.ninja using your token.\n",
    "\n",
    "PV data is not retrieved for each location. Rather, it is retrieved from a set of evenly spaced points within the study area made up of the settlements to be evaluated. Then, the PV data from the closest point is used when optimizing the mini-grids. This approach is used for two reasons:\n",
    "* To reduce the number of files saved on the computer and associated storage space\n",
    "* Because Renewables.ninja has allows maximum 50 downloads/hour from the API.\n",
    "\n",
    "If the API limit is reached, the download will pause for 60 minutes and then proceed. "
   ]
  },
  {
   "cell_type": "code",
   "execution_count": 7,
   "id": "e4831b96-3413-4667-b6cf-fdb6cfb7ecf2",
   "metadata": {},
   "outputs": [],
   "source": [
    "resolution = 0.5  # This is the resolution between points, measured in degrees. A finer resolution will increase detail as well as time to retrieve input files."
   ]
  },
  {
   "cell_type": "code",
   "execution_count": 8,
   "id": "f0ab484e-4aa0-4b5f-9921-d17c85d31823",
   "metadata": {},
   "outputs": [
    {
     "name": "stdout",
     "output_type": "stream",
     "text": [
      "49 data points will be retrieved\n"
     ]
    }
   ],
   "source": [
    "def roundPartial (value, resolution):\n",
    "    return round (value / resolution) * resolution\n",
    "\n",
    "max_lat = roundPartial(df['Y_deg'].max(), resolution)\n",
    "min_lat = roundPartial(df['Y_deg'].min(), resolution)\n",
    "\n",
    "max_long = roundPartial(df['X_deg'].max(), resolution)\n",
    "min_long = roundPartial(df['X_deg'].min(), resolution)\n",
    "\n",
    "lats = np.arange(min_lat, max_lat + resolution, resolution) #.tolist()\n",
    "longs = np.arange(min_long, max_long + resolution, resolution) #.tolist()\n",
    "\n",
    "print('{} data points will be retrieved'.format(len(lats) * len(longs)))"
   ]
  },
  {
   "cell_type": "code",
   "execution_count": 9,
   "id": "9c357a25-3d1a-44d4-8cd4-f505f2323410",
   "metadata": {},
   "outputs": [],
   "source": [
    "for lat in lats:\n",
    "    for long in longs:\n",
    "        output_file = os.path.join(pv_data_folder, 'pv_data_lat_{}_long_{}.csv'.format(lat, long))\n",
    "\n",
    "        if os.path.exists(output_file) == False:\n",
    "            get_pv_data(lat, long, token, pv_data_folder)"
   ]
  },
  {
   "cell_type": "markdown",
   "id": "916cda88-d8b2-48ae-9e63-30998e56de2d",
   "metadata": {},
   "source": [
    "#  Run the optimization to find the best combination of PV, diesel and batteries, as well as the corresponding LCOE\n",
    "\n",
    "The LCOE of generation, PV capacity (kW), diesel capacity (kW), battery capacity (kWh) and Net Present Cost - NPC (USD) are printed and saved to the Multiple_settlements_example.csv file in the outputs folder."
   ]
  },
  {
   "cell_type": "code",
   "execution_count": 10,
   "id": "4f8b7421-24ce-4a1b-af4f-ed4baa594cb4",
   "metadata": {},
   "outputs": [],
   "source": [
    "def run_pso(annual_demand, tier, lat, long):\n",
    "    hourly_ghi, hourly_temp = read_environmental_data(os.path.join(pv_data_folder, 'pv_data_lat_{}_long_{}.csv'.format(lat, long)))\n",
    "\n",
    "    load_curve = calc_load_curve(tier, annual_demand)\n",
    "\n",
    "    result = optimizer(diesel_price=0.5,\n",
    "                   hourly_ghi=hourly_ghi,\n",
    "                   hourly_temp=hourly_temp,\n",
    "                   load_curve=load_curve,\n",
    "                   start_year=2024,\n",
    "                   end_year=2034,\n",
    "                   discount_rate=0.08,\n",
    "                   diesel_cost=378,  # diesel generator capital cost, USD/kW rated power\n",
    "                   battery_cost=589,  # battery capital capital cost, USD/kWh of storage capacity\n",
    "                   full_life_cycles=2000, #full battery cycles before failure\n",
    "                   battery_inverter_cost=608,  # USD/kW\n",
    "                   pv_cost=1147,  # PV panel capital cost, USD/kW peak power\n",
    "                   pv_inverter=0, # PV inverter cost, USD/kW peak power, set to 0 if already included in pv_cost\n",
    "                   charge_controller=0, # PV charge controller cost, USD/kW peak power, set to 0 if already included in pv_cost\n",
    "                   diesel_limit=0.5, # Maximum share of generation over a year coming from diesel generator\n",
    "                   lpsp_max=0.005,  # maximum loss of load allowed over the year\n",
    "                   iterations=100,\n",
    "                   n_particles=100,\n",
    "                   ftol=0.0001,\n",
    "                   ftol_iter=10,\n",
    "                   verbose=False)\n",
    "\n",
    "    lcoe = round(result['gen_lcoe'], 3)\n",
    "    pv_capacity = round(result['pv_capacity'], 1)\n",
    "    diesel_capacity = round(result['diesel_gen_capacity'], 1)\n",
    "    battery_capacity = round(result['battery_capacity'], 1)\n",
    "    npc = int(round(result['npc'], 0))\n",
    "\n",
    "    return lcoe, pv_capacity, diesel_capacity, battery_capacity, npc"
   ]
  },
  {
   "cell_type": "code",
   "execution_count": 11,
   "id": "1e356d9b-6a1e-4c6a-897f-2b5ff83d2f9a",
   "metadata": {},
   "outputs": [
    {
     "data": {
      "application/vnd.jupyter.widget-view+json": {
       "model_id": "03f1e7bdc1ea4aac82c6b9a83d567b78",
       "version_major": 2,
       "version_minor": 0
      },
      "text/plain": [
       "  0%|          | 0/100 [00:00<?, ?it/s]"
      ]
     },
     "metadata": {},
     "output_type": "display_data"
    },
    {
     "data": {
      "text/html": [
       "<div>\n",
       "<style scoped>\n",
       "    .dataframe tbody tr th:only-of-type {\n",
       "        vertical-align: middle;\n",
       "    }\n",
       "\n",
       "    .dataframe tbody tr th {\n",
       "        vertical-align: top;\n",
       "    }\n",
       "\n",
       "    .dataframe thead th {\n",
       "        text-align: right;\n",
       "    }\n",
       "</style>\n",
       "<table border=\"1\" class=\"dataframe\">\n",
       "  <thead>\n",
       "    <tr style=\"text-align: right;\">\n",
       "      <th></th>\n",
       "      <th>id</th>\n",
       "      <th>X_deg</th>\n",
       "      <th>Y_deg</th>\n",
       "      <th>GHI</th>\n",
       "      <th>PopStartYear</th>\n",
       "      <th>MiniGridLCOE</th>\n",
       "      <th>PVCapacity</th>\n",
       "      <th>DieselCapacity</th>\n",
       "      <th>BatteryCapacity</th>\n",
       "      <th>NPC</th>\n",
       "    </tr>\n",
       "  </thead>\n",
       "  <tbody>\n",
       "    <tr>\n",
       "      <th>18285</th>\n",
       "      <td>18327</td>\n",
       "      <td>-13.11463</td>\n",
       "      <td>8.93833</td>\n",
       "      <td>1881.40606</td>\n",
       "      <td>4423.580239</td>\n",
       "      <td>0.280</td>\n",
       "      <td>419.9</td>\n",
       "      <td>143.9</td>\n",
       "      <td>190.9</td>\n",
       "      <td>1615727</td>\n",
       "    </tr>\n",
       "    <tr>\n",
       "      <th>1852</th>\n",
       "      <td>1853</td>\n",
       "      <td>-11.19665</td>\n",
       "      <td>9.38091</td>\n",
       "      <td>1971.28028</td>\n",
       "      <td>2060.546188</td>\n",
       "      <td>0.265</td>\n",
       "      <td>127.6</td>\n",
       "      <td>72.6</td>\n",
       "      <td>131.6</td>\n",
       "      <td>697277</td>\n",
       "    </tr>\n",
       "    <tr>\n",
       "      <th>20370</th>\n",
       "      <td>20415</td>\n",
       "      <td>-10.76858</td>\n",
       "      <td>7.92921</td>\n",
       "      <td>1846.00000</td>\n",
       "      <td>1045.545988</td>\n",
       "      <td>0.248</td>\n",
       "      <td>74.7</td>\n",
       "      <td>31.1</td>\n",
       "      <td>37.6</td>\n",
       "      <td>334142</td>\n",
       "    </tr>\n",
       "    <tr>\n",
       "      <th>1618</th>\n",
       "      <td>1619</td>\n",
       "      <td>-12.30263</td>\n",
       "      <td>9.43880</td>\n",
       "      <td>1922.00000</td>\n",
       "      <td>1265.782619</td>\n",
       "      <td>0.266</td>\n",
       "      <td>84.2</td>\n",
       "      <td>34.9</td>\n",
       "      <td>81.6</td>\n",
       "      <td>430007</td>\n",
       "    </tr>\n",
       "    <tr>\n",
       "      <th>19636</th>\n",
       "      <td>19681</td>\n",
       "      <td>-12.93489</td>\n",
       "      <td>9.12344</td>\n",
       "      <td>1875.52637</td>\n",
       "      <td>1119.075932</td>\n",
       "      <td>0.260</td>\n",
       "      <td>86.2</td>\n",
       "      <td>31.8</td>\n",
       "      <td>62.2</td>\n",
       "      <td>375967</td>\n",
       "    </tr>\n",
       "    <tr>\n",
       "      <th>15861</th>\n",
       "      <td>15892</td>\n",
       "      <td>-11.34040</td>\n",
       "      <td>7.66939</td>\n",
       "      <td>1813.00000</td>\n",
       "      <td>1321.085937</td>\n",
       "      <td>0.251</td>\n",
       "      <td>78.7</td>\n",
       "      <td>37.4</td>\n",
       "      <td>74.0</td>\n",
       "      <td>422772</td>\n",
       "    </tr>\n",
       "    <tr>\n",
       "      <th>18761</th>\n",
       "      <td>18803</td>\n",
       "      <td>-10.33601</td>\n",
       "      <td>8.46117</td>\n",
       "      <td>1882.16095</td>\n",
       "      <td>15530.266595</td>\n",
       "      <td>0.245</td>\n",
       "      <td>1114.7</td>\n",
       "      <td>468.0</td>\n",
       "      <td>512.5</td>\n",
       "      <td>4896301</td>\n",
       "    </tr>\n",
       "    <tr>\n",
       "      <th>19268</th>\n",
       "      <td>19311</td>\n",
       "      <td>-11.96665</td>\n",
       "      <td>7.65466</td>\n",
       "      <td>1788.94854</td>\n",
       "      <td>1136.140653</td>\n",
       "      <td>0.283</td>\n",
       "      <td>76.2</td>\n",
       "      <td>31.2</td>\n",
       "      <td>122.2</td>\n",
       "      <td>433736</td>\n",
       "    </tr>\n",
       "    <tr>\n",
       "      <th>18672</th>\n",
       "      <td>18714</td>\n",
       "      <td>-11.30575</td>\n",
       "      <td>8.57229</td>\n",
       "      <td>1898.00000</td>\n",
       "      <td>1603.712879</td>\n",
       "      <td>0.260</td>\n",
       "      <td>113.1</td>\n",
       "      <td>46.8</td>\n",
       "      <td>94.3</td>\n",
       "      <td>536648</td>\n",
       "    </tr>\n",
       "    <tr>\n",
       "      <th>19035</th>\n",
       "      <td>19078</td>\n",
       "      <td>-12.05685</td>\n",
       "      <td>8.11285</td>\n",
       "      <td>1837.00000</td>\n",
       "      <td>4033.636162</td>\n",
       "      <td>0.274</td>\n",
       "      <td>330.3</td>\n",
       "      <td>116.3</td>\n",
       "      <td>238.0</td>\n",
       "      <td>1427336</td>\n",
       "    </tr>\n",
       "  </tbody>\n",
       "</table>\n",
       "</div>"
      ],
      "text/plain": [
       "          id     X_deg    Y_deg         GHI  PopStartYear  MiniGridLCOE  \\\n",
       "18285  18327 -13.11463  8.93833  1881.40606   4423.580239         0.280   \n",
       "1852    1853 -11.19665  9.38091  1971.28028   2060.546188         0.265   \n",
       "20370  20415 -10.76858  7.92921  1846.00000   1045.545988         0.248   \n",
       "1618    1619 -12.30263  9.43880  1922.00000   1265.782619         0.266   \n",
       "19636  19681 -12.93489  9.12344  1875.52637   1119.075932         0.260   \n",
       "15861  15892 -11.34040  7.66939  1813.00000   1321.085937         0.251   \n",
       "18761  18803 -10.33601  8.46117  1882.16095  15530.266595         0.245   \n",
       "19268  19311 -11.96665  7.65466  1788.94854   1136.140653         0.283   \n",
       "18672  18714 -11.30575  8.57229  1898.00000   1603.712879         0.260   \n",
       "19035  19078 -12.05685  8.11285  1837.00000   4033.636162         0.274   \n",
       "\n",
       "       PVCapacity  DieselCapacity  BatteryCapacity      NPC  \n",
       "18285       419.9           143.9            190.9  1615727  \n",
       "1852        127.6            72.6            131.6   697277  \n",
       "20370        74.7            31.1             37.6   334142  \n",
       "1618         84.2            34.9             81.6   430007  \n",
       "19636        86.2            31.8             62.2   375967  \n",
       "15861        78.7            37.4             74.0   422772  \n",
       "18761      1114.7           468.0            512.5  4896301  \n",
       "19268        76.2            31.2            122.2   433736  \n",
       "18672       113.1            46.8             94.3   536648  \n",
       "19035       330.3           116.3            238.0  1427336  "
      ]
     },
     "execution_count": 11,
     "metadata": {},
     "output_type": "execute_result"
    }
   ],
   "source": [
    "tier = 3\n",
    "\n",
    "df['MiniGridLCOE'], df['PVCapacity'], df['DieselCapacity'], df['BatteryCapacity'], df['NPC'] = zip(*df.progress_apply(lambda row: run_pso(\n",
    "    row['ResidentialDemandTier{}'.format(tier)] * row['PopStartYear'], \n",
    "    tier, \n",
    "    roundPartial(row['Y_deg'], resolution), \n",
    "    roundPartial(row['X_deg'], resolution)), axis=1))\n",
    "\n",
    "df.to_csv(r'output/Multiple_settlements_example.csv')\n",
    "\n",
    "df[['id', 'X_deg', 'Y_deg', 'GHI', 'PopStartYear', 'MiniGridLCOE', 'PVCapacity', 'DieselCapacity', 'BatteryCapacity', 'NPC']].sample(10)\n"
   ]
  },
  {
   "cell_type": "code",
   "execution_count": null,
   "id": "c981a606-108d-4177-bc34-324abee1c03f",
   "metadata": {},
   "outputs": [],
   "source": []
  },
  {
   "cell_type": "code",
   "execution_count": null,
   "id": "05d87d54-f753-4bda-86da-20d7be9f392f",
   "metadata": {},
   "outputs": [],
   "source": []
  }
 ],
 "metadata": {
  "kernelspec": {
   "display_name": "Python 3 (ipykernel)",
   "language": "python",
   "name": "python3"
  },
  "language_info": {
   "codemirror_mode": {
    "name": "ipython",
    "version": 3
   },
   "file_extension": ".py",
   "mimetype": "text/x-python",
   "name": "python",
   "nbconvert_exporter": "python",
   "pygments_lexer": "ipython3",
   "version": "3.12.1"
  }
 },
 "nbformat": 4,
 "nbformat_minor": 5
}
