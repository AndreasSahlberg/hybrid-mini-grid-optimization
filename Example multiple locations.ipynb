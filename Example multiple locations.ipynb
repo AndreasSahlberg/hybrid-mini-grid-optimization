{
 "cells": [
  {
   "cell_type": "markdown",
   "id": "d8ba5f26-a629-47b0-9e58-b2283d5c070f",
   "metadata": {},
   "source": [
    "This notebook displays an example of how to run the mini-grid optimization for multiple settlements at once. It does so using an example settlement file from the Global Electrification Platform (electrifynow.energydata.info) for Sierra Leone."
   ]
  },
  {
   "cell_type": "markdown",
   "id": "d6f0efa3-2d7f-4398-a474-1ab2bdc061d4",
   "metadata": {},
   "source": [
    "# Import neccessary packages"
   ]
  },
  {
   "cell_type": "code",
   "execution_count": 1,
   "id": "fc5a367b-d4cb-4ff4-a60d-6af1d7d49702",
   "metadata": {},
   "outputs": [],
   "source": [
    "from src.mgoptimization.hybrids import *\n",
    "from src.mgoptimization.pso import *\n",
    "import os\n",
    "import numpy as np\n",
    "from tqdm.notebook import tqdm_notebook\n",
    "tqdm_notebook.pandas()"
   ]
  },
  {
   "cell_type": "markdown",
   "id": "616b76e4-79c9-4577-8568-48f073459307",
   "metadata": {},
   "source": [
    "# Import settlements\n",
    "\n",
    "Data is retrieved from the example_input folder. Next, 100 sample settlements with more than 1000 people are selected from the file."
   ]
  },
  {
   "cell_type": "code",
   "execution_count": 2,
   "id": "ba561480-71f4-47f7-8a14-819ed4e9734b",
   "metadata": {},
   "outputs": [],
   "source": [
    "df = pd.read_csv('input/sl-2-country-inputs.csv')\n",
    "df = df.loc[df['PopStartYear'] > 1000]\n",
    "df = df.sample(100)"
   ]
  },
  {
   "cell_type": "markdown",
   "id": "ec4a562a-c4fd-4682-aa03-54ec2f4f57da",
   "metadata": {},
   "source": [
    "# Retrieve solar resource data for the area"
   ]
  },
  {
   "cell_type": "markdown",
   "id": "c1eeeeb2-8064-4eee-9eec-8d711a705c27",
   "metadata": {},
   "source": [
    "Select where to save the PV data"
   ]
  },
  {
   "cell_type": "code",
   "execution_count": 3,
   "id": "21150a37-cef5-4b21-9f25-221c2f656815",
   "metadata": {},
   "outputs": [],
   "source": [
    "pv_data_folder = 'pv'"
   ]
  },
  {
   "cell_type": "markdown",
   "id": "c3803c86-0268-4d9f-915f-f9e49b37e8f8",
   "metadata": {},
   "source": [
    "Enter your renewables.ninja token"
   ]
  },
  {
   "cell_type": "code",
   "execution_count": 4,
   "id": "fd3c8f1a-c9ef-4721-81a3-8369c3e3afd3",
   "metadata": {},
   "outputs": [],
   "source": [
    "token = ''"
   ]
  },
  {
   "cell_type": "markdown",
   "id": "c7b7b108-bba8-43f1-8723-6b814d5e7cec",
   "metadata": {},
   "source": [
    "This below cells retrieves the PV data from renewables.ninja using your token.\n",
    "\n",
    "PV data is not retrieved for each location. Rather, it is retrieved from a set of evenly spaced points within the study area made up of the settlements to be evaluated. Then, the PV data from the closest point is used when optimizing the mini-grids. This approach is used for two reasons:\n",
    "* To reduce the number of files saved on the computer and associated storage space\n",
    "* Because Renewables.ninja has allows maximum 50 downloads/hour from the API.\n",
    "\n",
    "If the API limit is reached, the download will pause for 60 minutes and then proceed. "
   ]
  },
  {
   "cell_type": "code",
   "execution_count": 5,
   "id": "e4831b96-3413-4667-b6cf-fdb6cfb7ecf2",
   "metadata": {},
   "outputs": [],
   "source": [
    "resolution = 0.5  # This is the resolution between points, measured in degrees. A finer resolution will increase detail as well as time to retrieve input files."
   ]
  },
  {
   "cell_type": "code",
   "execution_count": 6,
   "id": "f0ab484e-4aa0-4b5f-9921-d17c85d31823",
   "metadata": {},
   "outputs": [
    {
     "name": "stdout",
     "output_type": "stream",
     "text": [
      "42 data points will be retrieved\n"
     ]
    }
   ],
   "source": [
    "def roundPartial (value, resolution):\n",
    "    return round (value / resolution) * resolution\n",
    "\n",
    "max_lat = roundPartial(df['Y_deg'].max(), resolution)\n",
    "min_lat = roundPartial(df['Y_deg'].min(), resolution)\n",
    "\n",
    "max_long = roundPartial(df['X_deg'].max(), resolution)\n",
    "min_long = roundPartial(df['X_deg'].min(), resolution)\n",
    "\n",
    "lats = np.arange(min_lat, max_lat + resolution, resolution) #.tolist()\n",
    "longs = np.arange(min_long, max_long + resolution, resolution) #.tolist()\n",
    "\n",
    "print('{} data points will be retrieved'.format(len(lats) * len(longs)))"
   ]
  },
  {
   "cell_type": "code",
   "execution_count": 7,
   "id": "9c357a25-3d1a-44d4-8cd4-f505f2323410",
   "metadata": {},
   "outputs": [],
   "source": [
    "for lat in lats:\n",
    "    for long in longs:\n",
    "        output_file = os.path.join(pv_data_folder, 'pv_data_lat_{}_long_{}.csv'.format(lat, long))\n",
    "\n",
    "        if os.path.exists(output_file) == False:\n",
    "            get_pv_data(lat, long, token, pv_data_folder)"
   ]
  },
  {
   "cell_type": "markdown",
   "id": "916cda88-d8b2-48ae-9e63-30998e56de2d",
   "metadata": {},
   "source": [
    "#  Run the optimization to find the best combination of PV, diesel and batteries, as well as the corresponding LCOE\n",
    "\n",
    "The LCOE of generation, PV capacity (kW), diesel capacity (kW), battery capacity (kWh) and Net Present Cost - NPC (USD) are printed and saved to the Multiple_settlements_example.csv file in the outputs folder."
   ]
  },
  {
   "cell_type": "code",
   "execution_count": 8,
   "id": "4f8b7421-24ce-4a1b-af4f-ed4baa594cb4",
   "metadata": {},
   "outputs": [],
   "source": [
    "def run_pso(annual_demand, tier, lat, long):\n",
    "    hourly_ghi, hourly_temp = read_environmental_data(os.path.join(pv_data_folder, 'pv_data_lat_{}_long_{}.csv'.format(lat, long)))\n",
    "\n",
    "    load_curve = calc_load_curve(tier, annual_demand)\n",
    "\n",
    "    result = optimizer(diesel_price=0.5,\n",
    "                   hourly_ghi=hourly_ghi,\n",
    "                   hourly_temp=hourly_temp,\n",
    "                   load_curve=load_curve,\n",
    "                   start_year=2024,\n",
    "                   end_year=2034,\n",
    "                   discount_rate=0.08,\n",
    "                   diesel_cost=378,  # diesel generator capital cost, USD/kW rated power\n",
    "                   battery_cost=589,  # battery capital capital cost, USD/kWh of storage capacity\n",
    "                   full_life_cycles=2000, #full battery cycles before failure\n",
    "                   battery_inverter_cost=608,  # USD/kW\n",
    "                   pv_cost=1147,  # PV panel capital cost, USD/kW peak power\n",
    "                   pv_inverter=0, # PV inverter cost, USD/kW peak power, set to 0 if already included in pv_cost\n",
    "                   charge_controller=0, # PV charge controller cost, USD/kW peak power, set to 0 if already included in pv_cost\n",
    "                   diesel_limit=0.5, # Maximum share of generation over a year coming from diesel generator\n",
    "                   lpsp_max=0.005,  # maximum loss of load allowed over the year\n",
    "                   iterations=100,  # PSO parameter. Reducing will increase spee, but reduce chance of finding global optimum\n",
    "                   n_particles=100, # PSO parameter. Reducing will increase spee, but reduce chance of finding global optimum\n",
    "                   verbose=False,\n",
    "                   options={'c1': 0.8, 'c2': 1, 'w': 0.6})\n",
    "\n",
    "    lcoe = round(result['gen_lcoe'], 3)\n",
    "    pv_capacity = round(result['pv_capacity'], 1)\n",
    "    diesel_capacity = round(result['diesel_gen_capacity'], 1)\n",
    "    battery_capacity = round(result['battery_capacity'], 1)\n",
    "    npc = int(round(result['npc'], 0))\n",
    "\n",
    "    return lcoe, pv_capacity, diesel_capacity, battery_capacity, npc"
   ]
  },
  {
   "cell_type": "code",
   "execution_count": 9,
   "id": "1e356d9b-6a1e-4c6a-897f-2b5ff83d2f9a",
   "metadata": {},
   "outputs": [
    {
     "data": {
      "application/vnd.jupyter.widget-view+json": {
       "model_id": "3c1d58f267d24cdd82dc4f16ae6d5c93",
       "version_major": 2,
       "version_minor": 0
      },
      "text/plain": [
       "  0%|          | 0/100 [00:00<?, ?it/s]"
      ]
     },
     "metadata": {},
     "output_type": "display_data"
    },
    {
     "data": {
      "text/html": [
       "<div>\n",
       "<style scoped>\n",
       "    .dataframe tbody tr th:only-of-type {\n",
       "        vertical-align: middle;\n",
       "    }\n",
       "\n",
       "    .dataframe tbody tr th {\n",
       "        vertical-align: top;\n",
       "    }\n",
       "\n",
       "    .dataframe thead th {\n",
       "        text-align: right;\n",
       "    }\n",
       "</style>\n",
       "<table border=\"1\" class=\"dataframe\">\n",
       "  <thead>\n",
       "    <tr style=\"text-align: right;\">\n",
       "      <th></th>\n",
       "      <th>id</th>\n",
       "      <th>X_deg</th>\n",
       "      <th>Y_deg</th>\n",
       "      <th>GHI</th>\n",
       "      <th>PopStartYear</th>\n",
       "      <th>MiniGridLCOE</th>\n",
       "      <th>PVCapacity</th>\n",
       "      <th>DieselCapacity</th>\n",
       "      <th>BatteryCapacity</th>\n",
       "      <th>NPC</th>\n",
       "    </tr>\n",
       "  </thead>\n",
       "  <tbody>\n",
       "    <tr>\n",
       "      <th>19732</th>\n",
       "      <td>19777</td>\n",
       "      <td>-13.00998</td>\n",
       "      <td>8.95820</td>\n",
       "      <td>1878.02478</td>\n",
       "      <td>1398.422138</td>\n",
       "      <td>0.269</td>\n",
       "      <td>107.2</td>\n",
       "      <td>41.4</td>\n",
       "      <td>92.0</td>\n",
       "      <td>483550</td>\n",
       "    </tr>\n",
       "    <tr>\n",
       "      <th>9847</th>\n",
       "      <td>9852</td>\n",
       "      <td>-12.66992</td>\n",
       "      <td>8.45657</td>\n",
       "      <td>1831.79059</td>\n",
       "      <td>1643.801789</td>\n",
       "      <td>0.284</td>\n",
       "      <td>145.5</td>\n",
       "      <td>49.0</td>\n",
       "      <td>116.0</td>\n",
       "      <td>604556</td>\n",
       "    </tr>\n",
       "    <tr>\n",
       "      <th>18142</th>\n",
       "      <td>18184</td>\n",
       "      <td>-12.74474</td>\n",
       "      <td>9.12750</td>\n",
       "      <td>1889.02622</td>\n",
       "      <td>2198.607255</td>\n",
       "      <td>0.277</td>\n",
       "      <td>168.1</td>\n",
       "      <td>65.2</td>\n",
       "      <td>161.9</td>\n",
       "      <td>783109</td>\n",
       "    </tr>\n",
       "    <tr>\n",
       "      <th>19761</th>\n",
       "      <td>19806</td>\n",
       "      <td>-13.16943</td>\n",
       "      <td>8.91400</td>\n",
       "      <td>1898.00000</td>\n",
       "      <td>1198.647554</td>\n",
       "      <td>0.269</td>\n",
       "      <td>93.2</td>\n",
       "      <td>35.4</td>\n",
       "      <td>78.6</td>\n",
       "      <td>415606</td>\n",
       "    </tr>\n",
       "    <tr>\n",
       "      <th>14449</th>\n",
       "      <td>14480</td>\n",
       "      <td>-10.90110</td>\n",
       "      <td>7.92308</td>\n",
       "      <td>1855.00000</td>\n",
       "      <td>1374.065000</td>\n",
       "      <td>0.252</td>\n",
       "      <td>98.3</td>\n",
       "      <td>38.9</td>\n",
       "      <td>80.9</td>\n",
       "      <td>445719</td>\n",
       "    </tr>\n",
       "    <tr>\n",
       "      <th>18222</th>\n",
       "      <td>18264</td>\n",
       "      <td>-13.07531</td>\n",
       "      <td>9.00328</td>\n",
       "      <td>1866.78556</td>\n",
       "      <td>2511.452014</td>\n",
       "      <td>0.273</td>\n",
       "      <td>211.2</td>\n",
       "      <td>73.9</td>\n",
       "      <td>161.1</td>\n",
       "      <td>884897</td>\n",
       "    </tr>\n",
       "    <tr>\n",
       "      <th>16527</th>\n",
       "      <td>16559</td>\n",
       "      <td>-11.61929</td>\n",
       "      <td>7.52380</td>\n",
       "      <td>1785.00000</td>\n",
       "      <td>2731.283543</td>\n",
       "      <td>0.279</td>\n",
       "      <td>183.4</td>\n",
       "      <td>89.2</td>\n",
       "      <td>220.7</td>\n",
       "      <td>976642</td>\n",
       "    </tr>\n",
       "    <tr>\n",
       "      <th>19051</th>\n",
       "      <td>19094</td>\n",
       "      <td>-10.79491</td>\n",
       "      <td>8.07920</td>\n",
       "      <td>1868.14044</td>\n",
       "      <td>2053.100082</td>\n",
       "      <td>0.250</td>\n",
       "      <td>141.1</td>\n",
       "      <td>58.3</td>\n",
       "      <td>121.6</td>\n",
       "      <td>660373</td>\n",
       "    </tr>\n",
       "    <tr>\n",
       "      <th>15880</th>\n",
       "      <td>15912</td>\n",
       "      <td>-12.27542</td>\n",
       "      <td>7.66752</td>\n",
       "      <td>1779.14709</td>\n",
       "      <td>1021.221739</td>\n",
       "      <td>0.302</td>\n",
       "      <td>99.3</td>\n",
       "      <td>28.5</td>\n",
       "      <td>112.1</td>\n",
       "      <td>419341</td>\n",
       "    </tr>\n",
       "    <tr>\n",
       "      <th>20528</th>\n",
       "      <td>20573</td>\n",
       "      <td>-11.54418</td>\n",
       "      <td>7.27910</td>\n",
       "      <td>1759.61302</td>\n",
       "      <td>1272.461350</td>\n",
       "      <td>0.262</td>\n",
       "      <td>105.5</td>\n",
       "      <td>36.0</td>\n",
       "      <td>74.9</td>\n",
       "      <td>431559</td>\n",
       "    </tr>\n",
       "  </tbody>\n",
       "</table>\n",
       "</div>"
      ],
      "text/plain": [
       "          id     X_deg    Y_deg         GHI  PopStartYear  MiniGridLCOE  \\\n",
       "19732  19777 -13.00998  8.95820  1878.02478   1398.422138         0.269   \n",
       "9847    9852 -12.66992  8.45657  1831.79059   1643.801789         0.284   \n",
       "18142  18184 -12.74474  9.12750  1889.02622   2198.607255         0.277   \n",
       "19761  19806 -13.16943  8.91400  1898.00000   1198.647554         0.269   \n",
       "14449  14480 -10.90110  7.92308  1855.00000   1374.065000         0.252   \n",
       "18222  18264 -13.07531  9.00328  1866.78556   2511.452014         0.273   \n",
       "16527  16559 -11.61929  7.52380  1785.00000   2731.283543         0.279   \n",
       "19051  19094 -10.79491  8.07920  1868.14044   2053.100082         0.250   \n",
       "15880  15912 -12.27542  7.66752  1779.14709   1021.221739         0.302   \n",
       "20528  20573 -11.54418  7.27910  1759.61302   1272.461350         0.262   \n",
       "\n",
       "       PVCapacity  DieselCapacity  BatteryCapacity     NPC  \n",
       "19732       107.2            41.4             92.0  483550  \n",
       "9847        145.5            49.0            116.0  604556  \n",
       "18142       168.1            65.2            161.9  783109  \n",
       "19761        93.2            35.4             78.6  415606  \n",
       "14449        98.3            38.9             80.9  445719  \n",
       "18222       211.2            73.9            161.1  884897  \n",
       "16527       183.4            89.2            220.7  976642  \n",
       "19051       141.1            58.3            121.6  660373  \n",
       "15880        99.3            28.5            112.1  419341  \n",
       "20528       105.5            36.0             74.9  431559  "
      ]
     },
     "execution_count": 9,
     "metadata": {},
     "output_type": "execute_result"
    }
   ],
   "source": [
    "tier = 3\n",
    "\n",
    "df['MiniGridLCOE'], df['PVCapacity'], df['DieselCapacity'], df['BatteryCapacity'], df['NPC'] = zip(*df.progress_apply(lambda row: run_pso(\n",
    "    row['ResidentialDemandTier{}'.format(tier)] * row['PopStartYear'], \n",
    "    tier, \n",
    "    roundPartial(row['Y_deg'], resolution), \n",
    "    roundPartial(row['X_deg'], resolution)), axis=1))\n",
    "\n",
    "df.to_csv(r'output/Multiple_settlements_example.csv')\n",
    "\n",
    "df[['id', 'X_deg', 'Y_deg', 'GHI', 'PopStartYear', 'MiniGridLCOE', 'PVCapacity', 'DieselCapacity', 'BatteryCapacity', 'NPC']].sample(10)\n"
   ]
  },
  {
   "cell_type": "code",
   "execution_count": null,
   "id": "c981a606-108d-4177-bc34-324abee1c03f",
   "metadata": {},
   "outputs": [],
   "source": []
  }
 ],
 "metadata": {
  "kernelspec": {
   "display_name": "Python 3 (ipykernel)",
   "language": "python",
   "name": "python3"
  },
  "language_info": {
   "codemirror_mode": {
    "name": "ipython",
    "version": 3
   },
   "file_extension": ".py",
   "mimetype": "text/x-python",
   "name": "python",
   "nbconvert_exporter": "python",
   "pygments_lexer": "ipython3",
   "version": "3.12.1"
  }
 },
 "nbformat": 4,
 "nbformat_minor": 5
}
