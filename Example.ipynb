{
 "cells": [
  {
   "cell_type": "code",
   "execution_count": 1,
   "metadata": {},
   "outputs": [],
   "source": [
    "from src.mgoptimization.hybrids import *\n",
    "from src.mgoptimization.pso import *\n",
    "import os"
   ]
  },
  {
   "cell_type": "code",
   "execution_count": 2,
   "metadata": {},
   "outputs": [],
   "source": [
    "long = -3\n",
    "lat = 24"
   ]
  },
  {
   "cell_type": "code",
   "execution_count": 3,
   "metadata": {},
   "outputs": [],
   "source": [
    "pv_data_folder = ''"
   ]
  },
  {
   "cell_type": "code",
   "execution_count": 4,
   "metadata": {},
   "outputs": [],
   "source": [
    "token = 'cdf20d12d762111de60af365755a3e53e6b0b719'"
   ]
  },
  {
   "cell_type": "code",
   "execution_count": 5,
   "metadata": {},
   "outputs": [],
   "source": [
    "get_pv_data(lat, long, token, pv_data_folder)"
   ]
  },
  {
   "cell_type": "code",
   "execution_count": 6,
   "metadata": {},
   "outputs": [],
   "source": [
    "hourly_ghi, hourly_temp = read_environmental_data(os.path.join(pv_data_folder, 'pv_data_lat_{}_long_{}.csv'.format(lat, long)))"
   ]
  },
  {
   "cell_type": "code",
   "execution_count": 7,
   "metadata": {},
   "outputs": [],
   "source": [
    "demand = 365*361\n",
    "tier = 2\n",
    "diesel_price = 1"
   ]
  },
  {
   "cell_type": "code",
   "execution_count": 8,
   "metadata": {},
   "outputs": [],
   "source": [
    "load_curve = calc_load_curve(tier, demand)"
   ]
  },
  {
   "cell_type": "code",
   "execution_count": 13,
   "metadata": {},
   "outputs": [
    {
     "name": "stderr",
     "output_type": "stream",
     "text": [
      "2023-10-25 10:25:20,076 - pyswarms.single.global_best - INFO - Optimize for 100 iters with {'c1': 0.5, 'c2': 0.3, 'w': 0.9}\n",
      "pyswarms.single.global_best:  83%|██████████████████████████████████████████████████▋          |83/100, best_cost=0.295\n",
      "2023-10-25 10:25:24,059 - pyswarms.single.global_best - INFO - Optimization finished | best cost: 0.2946394499026899, best pos: [ 72.13927692 221.89663182   1.14851694]\n"
     ]
    },
    {
     "name": "stdout",
     "output_type": "stream",
     "text": [
      "Generation LCOE is found to be 0.29 USD/kWh\n",
      "Optimum PV capacity is found to be 72.1 kW\n",
      "Optimum diesel capacity is found to be 1.1 kW\n",
      "Optimum battery capacity is found to be 221.9 kWh\n",
      "NPC of optimum configuration is 429227.0 USD\n",
      "Battery life of optimum configuration is 6 years\n"
     ]
    }
   ],
   "source": [
    "result = optimizer(diesel_price=diesel_price,\n",
    "                   hourly_ghi=hourly_ghi,\n",
    "                   hourly_temp=hourly_temp,\n",
    "                   load_curve=load_curve,\n",
    "                   start_year=2020,\n",
    "                   end_year=2044,\n",
    "                   discount_rate=0.08,\n",
    "                   diesel_cost=378,  # diesel generator capital cost, USD/kW rated power\n",
    "                   battery_cost=432,  # battery capital capital cost, USD/kWh of storage capacity\n",
    "                   full_life_cycles=2000, #full battery cycles before failure\n",
    "                   inverter_cost=608,  # USD/kW\n",
    "                   pv_cost=1147,  # PV panel capital cost, USD/kW peak power\n",
    "                   diesel_limit=1, # Maximum share of generation over a year coming from diesel generator\n",
    "                   charge_controller=0,\n",
    "                   lpsp_max=0.0,  # maximum loss of load allowed over the year\n",
    "                   iterations=100,\n",
    "                   n_particles=50,\n",
    "                   ftol=0.0001,\n",
    "                   ftol_iter=10,\n",
    "                   verbose=True)\n",
    "\n",
    "print('Generation LCOE is found to be {} USD/kWh'.format(round(result['gen_lcoe'], 2)))\n",
    "print('Optimum PV capacity is found to be {} kW'.format(round(result['pv_capacity'], 1)))\n",
    "print('Optimum diesel capacity is found to be {} kW'.format(round(result['diesel_gen_capacity'], 1)))\n",
    "print('Optimum battery capacity is found to be {} kWh'.format(round(result['battery_capacity'], 1)))\n",
    "print('NPC of optimum configuration is {} USD'.format(round(result['npc'], 0)))\n",
    "print('Battery life of optimum configuration is {} years'.format(round(result['battery_life'], 0)))"
   ]
  },
  {
   "cell_type": "code",
   "execution_count": null,
   "metadata": {},
   "outputs": [],
   "source": [
    "import matplotlib.pyplot as plt\n",
    "import numpy as np"
   ]
  },
  {
   "cell_type": "code",
   "execution_count": null,
   "metadata": {},
   "outputs": [],
   "source": [
    "load = np.array(load_curve[2400:2448])\n",
    "pv_gen = np.array(result['hourly_pv_gen'][2400:2448])\n",
    "diesel_gen = np.array(result['hourly_diesel_gen'][2400:2448])\n",
    "battery_soc = np.array(result['battery_hourly_soc'][2400:2448])\n",
    "battery_usage = np.array(result['hourly_battery_usage'][2400:2448])\n",
    "\n",
    "plt.plot(load, label='Load')\n",
    "plt.plot(pv_gen, label='PV gen')\n",
    "plt.plot(diesel_gen, 'o', label='Diesel gen')\n",
    "plt.plot(battery_soc, label='Battery SOC')\n",
    "plt.plot(battery_usage, 'o', label='Battery discharge')\n",
    "plt.legend(loc='lower right')"
   ]
  },
  {
   "cell_type": "code",
   "execution_count": null,
   "metadata": {},
   "outputs": [],
   "source": []
  }
 ],
 "metadata": {
  "kernelspec": {
   "display_name": "Python 3 (ipykernel)",
   "language": "python",
   "name": "python3"
  },
  "language_info": {
   "codemirror_mode": {
    "name": "ipython",
    "version": 3
   },
   "file_extension": ".py",
   "mimetype": "text/x-python",
   "name": "python",
   "nbconvert_exporter": "python",
   "pygments_lexer": "ipython3",
   "version": "3.10.6"
  }
 },
 "nbformat": 4,
 "nbformat_minor": 4
}
